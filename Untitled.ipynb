{
 "cells": [
  {
   "cell_type": "code",
   "execution_count": 29,
   "metadata": {},
   "outputs": [
    {
     "name": "stdout",
     "output_type": "stream",
     "text": [
      "\u001b[0m\u001b[38;5;33m10Dot1P\u001b[0m/        \u001b[38;5;9mLifeCycleJava.zip\u001b[0m  \u001b[38;5;33mpythonCode\u001b[0m/         \u001b[38;5;33mui\u001b[0m/\r\n",
      "\u001b[38;5;33mbooklist\u001b[0m/       \u001b[38;5;33mmodule1\u001b[0m/           \u001b[38;5;33mspark\u001b[0m/              Untitled.ipynb\r\n",
      "\u001b[38;5;33mC\u001b[0m/              \u001b[38;5;33mmodule2\u001b[0m/           \u001b[38;5;33mStaticClockJava\u001b[0m/\r\n",
      "\u001b[38;5;33mdocker\u001b[0m/         \u001b[38;5;33mModule2FarAway\u001b[0m/    \u001b[38;5;33mSunCalculatorJava\u001b[0m/\r\n",
      "\u001b[38;5;33mLifeCycleJava\u001b[0m/  \u001b[38;5;33mModule6-Tasks\u001b[0m/     \u001b[38;5;33mSwinLibApp\u001b[0m/\r\n"
     ]
    }
   ],
   "source": [
    "%ls"
   ]
  },
  {
   "cell_type": "code",
   "execution_count": 30,
   "metadata": {},
   "outputs": [
    {
     "data": {
      "text/plain": [
       "'/home/carl/myCode'"
      ]
     },
     "execution_count": 30,
     "metadata": {},
     "output_type": "execute_result"
    }
   ],
   "source": [
    "%pwd"
   ]
  },
  {
   "cell_type": "code",
   "execution_count": 31,
   "metadata": {},
   "outputs": [
    {
     "name": "stdout",
     "output_type": "stream",
     "text": [
      "/home/carl/myCode/spark\n"
     ]
    }
   ],
   "source": [
    "%cd spark"
   ]
  },
  {
   "cell_type": "code",
   "execution_count": 32,
   "metadata": {},
   "outputs": [
    {
     "data": {
      "text/plain": [
       "'/home/carl/myCode/spark'"
      ]
     },
     "execution_count": 32,
     "metadata": {},
     "output_type": "execute_result"
    }
   ],
   "source": [
    "%pwd\n"
   ]
  },
  {
   "cell_type": "code",
   "execution_count": 33,
   "metadata": {},
   "outputs": [
    {
     "name": "stderr",
     "output_type": "stream",
     "text": [
      "UsageError: Line magic function `%spark-submit` not found.\n"
     ]
    }
   ],
   "source": [
    "%spark-submit --driver-class-path  /usr/share/java/mysql-connector-java.jar readMysqlSpark.py"
   ]
  },
  {
   "cell_type": "code",
   "execution_count": 34,
   "metadata": {},
   "outputs": [
    {
     "ename": "SyntaxError",
     "evalue": "invalid syntax (<ipython-input-34-7a785969629f>, line 1)",
     "output_type": "error",
     "traceback": [
      "\u001b[0;36m  File \u001b[0;32m\"<ipython-input-34-7a785969629f>\"\u001b[0;36m, line \u001b[0;32m1\u001b[0m\n\u001b[0;31m    spark-submit --driver-class-path  /usr/share/java/mysql-connector-java.jar readMysqlSpark.py\u001b[0m\n\u001b[0m                              ^\u001b[0m\n\u001b[0;31mSyntaxError\u001b[0m\u001b[0;31m:\u001b[0m invalid syntax\n"
     ]
    }
   ],
   "source": [
    "spark-submit --driver-class-path  /usr/share/java/mysql-connector-java.jar readMysqlSpark.py"
   ]
  },
  {
   "cell_type": "code",
   "execution_count": 35,
   "metadata": {},
   "outputs": [
    {
     "name": "stderr",
     "output_type": "stream",
     "text": [
      "UsageError: Line magic function `%` not found.\n"
     ]
    }
   ],
   "source": [
    "% spark-submit --driver-class-path  /usr/share/java/mysql-connector-java.jar readMysqlSpark.py"
   ]
  },
  {
   "cell_type": "code",
   "execution_count": null,
   "metadata": {},
   "outputs": [],
   "source": []
  }
 ],
 "metadata": {
  "kernelspec": {
   "display_name": "Python 3",
   "language": "python",
   "name": "python3"
  },
  "language_info": {
   "codemirror_mode": {
    "name": "ipython",
    "version": 3
   },
   "file_extension": ".py",
   "mimetype": "text/x-python",
   "name": "python",
   "nbconvert_exporter": "python",
   "pygments_lexer": "ipython3",
   "version": "3.6.8"
  }
 },
 "nbformat": 4,
 "nbformat_minor": 4
}
